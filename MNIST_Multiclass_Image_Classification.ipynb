{
  "nbformat": 4,
  "nbformat_minor": 0,
  "metadata": {
    "colab": {
      "provenance": []
    },
    "kernelspec": {
      "name": "python3",
      "display_name": "Python 3"
    },
    "language_info": {
      "name": "python"
    }
  },
  "cells": [
    {
      "cell_type": "markdown",
      "source": [
        "# MNIST Multiclass Image Classification\n",
        "We will train a neural network for hand-written digit recognition using the MNIST dataset consiting of digits 0-9. The MNIST dataset is taken from tensorflow datasets and is split into 70% for training the model and 30% for testing model accuracy."
      ],
      "metadata": {
        "id": "D34mtp7pokej"
      }
    },
    {
      "cell_type": "code",
      "execution_count": 21,
      "metadata": {
        "id": "2kg_CZR1TI0Z"
      },
      "outputs": [],
      "source": [
        "import numpy as np\n",
        "import keras\n",
        "import tensorflow as tf\n",
        "from keras import layers\n",
        "import tensorflow_datasets as tfds\n",
        "import matplotlib.pyplot as plt"
      ]
    },
    {
      "cell_type": "code",
      "source": [
        "# load MNIST dataset from tensoflow datasets, 70% train set, 30% test set\n",
        "(train_ds, test_ds), ds_info = tfds.load(\n",
        "    'mnist',\n",
        "    split=['train[:70%]', 'test[:30%]'],\n",
        "    shuffle_files=True,\n",
        "    as_supervised=True,\n",
        "    with_info=True,\n",
        ")"
      ],
      "metadata": {
        "id": "fYLXvQERppTn"
      },
      "execution_count": 22,
      "outputs": []
    },
    {
      "cell_type": "code",
      "source": [
        "# prepare datasets\n",
        "def normalize_img(image, label):\n",
        "  \"\"\"Normalizes images: `uint8` -> `float32`.\"\"\"\n",
        "  return tf.cast(image, tf.float32) / 255., label\n",
        "\n",
        "train_ds = train_ds.map(\n",
        "    normalize_img, num_parallel_calls=tf.data.AUTOTUNE)\n",
        "train_ds = train_ds.cache()\n",
        "train_ds = train_ds.shuffle(ds_info.splits['train'].num_examples)\n",
        "train_ds = train_ds.batch(128)\n",
        "train_ds = train_ds.prefetch(tf.data.AUTOTUNE)\n",
        "\n",
        "test_ds = test_ds.map(\n",
        "    normalize_img, num_parallel_calls=tf.data.AUTOTUNE)\n",
        "test_ds = test_ds.batch(128)\n",
        "test_ds = test_ds.cache()\n",
        "test_ds = test_ds.prefetch(tf.data.AUTOTUNE)"
      ],
      "metadata": {
        "id": "1zs56qmpvGnq"
      },
      "execution_count": 23,
      "outputs": []
    },
    {
      "cell_type": "code",
      "source": [
        "# build and train model\n",
        "\n",
        "model = tf.keras.models.Sequential([\n",
        "  tf.keras.layers.Flatten(input_shape=(28, 28)),\n",
        "  tf.keras.layers.Dense(256, activation='relu', kernel_regularizer=tf.keras.regularizers.l2(0.001)),\n",
        "  tf.keras.layers.Dense(128, activation='relu', kernel_regularizer=tf.keras.regularizers.l2(0.001)),\n",
        "  tf.keras.layers.Dense(64, activation='relu', kernel_regularizer=tf.keras.regularizers.l2(0.001)),\n",
        "  tf.keras.layers.Dense(10) # since there are 10 possible values for the digits (0-9)\n",
        "])\n",
        "model.compile(\n",
        "    optimizer=tf.keras.optimizers.Adam(learning_rate=1e-3),\n",
        "    loss=tf.keras.losses.SparseCategoricalCrossentropy(from_logits=True),  # softmax classification\n",
        "    metrics=[tf.keras.metrics.SparseCategoricalAccuracy()],\n",
        ")\n",
        "\n",
        "model.fit(\n",
        "    train_ds,\n",
        "    epochs=11,\n",
        ")"
      ],
      "metadata": {
        "colab": {
          "base_uri": "https://localhost:8080/"
        },
        "id": "mHZxc-OF4f5B",
        "outputId": "15ddbb6e-17e0-4694-a317-7765100fc758"
      },
      "execution_count": 25,
      "outputs": [
        {
          "output_type": "stream",
          "name": "stdout",
          "text": [
            "Epoch 1/11\n",
            "329/329 [==============================] - 4s 8ms/step - loss: 0.7258 - sparse_categorical_accuracy: 0.8984\n",
            "Epoch 2/11\n",
            "329/329 [==============================] - 3s 9ms/step - loss: 0.4104 - sparse_categorical_accuracy: 0.9553\n",
            "Epoch 3/11\n",
            "329/329 [==============================] - 4s 12ms/step - loss: 0.3209 - sparse_categorical_accuracy: 0.9665\n",
            "Epoch 4/11\n",
            "329/329 [==============================] - 3s 9ms/step - loss: 0.2749 - sparse_categorical_accuracy: 0.9703\n",
            "Epoch 5/11\n",
            "329/329 [==============================] - 3s 8ms/step - loss: 0.2458 - sparse_categorical_accuracy: 0.9730\n",
            "Epoch 6/11\n",
            "329/329 [==============================] - 3s 8ms/step - loss: 0.2256 - sparse_categorical_accuracy: 0.9758\n",
            "Epoch 7/11\n",
            "329/329 [==============================] - 3s 9ms/step - loss: 0.2063 - sparse_categorical_accuracy: 0.9786\n",
            "Epoch 8/11\n",
            "329/329 [==============================] - 4s 13ms/step - loss: 0.1967 - sparse_categorical_accuracy: 0.9782\n",
            "Epoch 9/11\n",
            "329/329 [==============================] - 3s 8ms/step - loss: 0.1870 - sparse_categorical_accuracy: 0.9797\n",
            "Epoch 10/11\n",
            "329/329 [==============================] - 3s 8ms/step - loss: 0.1801 - sparse_categorical_accuracy: 0.9813\n",
            "Epoch 11/11\n",
            "329/329 [==============================] - 3s 9ms/step - loss: 0.1759 - sparse_categorical_accuracy: 0.9811\n"
          ]
        },
        {
          "output_type": "execute_result",
          "data": {
            "text/plain": [
              "<keras.src.callbacks.History at 0x7be4f4f97460>"
            ]
          },
          "metadata": {},
          "execution_count": 25
        }
      ]
    },
    {
      "cell_type": "code",
      "source": [
        "# check accuracy on test set\n",
        "model.evaluate(test_ds)"
      ],
      "metadata": {
        "colab": {
          "base_uri": "https://localhost:8080/"
        },
        "id": "RR129rn_vzZJ",
        "outputId": "8fb8122e-4c52-481b-b67d-745c6a8472f5"
      },
      "execution_count": 26,
      "outputs": [
        {
          "output_type": "stream",
          "name": "stdout",
          "text": [
            "24/24 [==============================] - 1s 14ms/step - loss: 0.2019 - sparse_categorical_accuracy: 0.9710\n"
          ]
        },
        {
          "output_type": "execute_result",
          "data": {
            "text/plain": [
              "[0.2018679976463318, 0.9710000157356262]"
            ]
          },
          "metadata": {},
          "execution_count": 26
        }
      ]
    }
  ]
}